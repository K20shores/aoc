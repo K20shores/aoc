{
 "cells": [
  {
   "cell_type": "code",
   "execution_count": 15,
   "id": "dd7883be",
   "metadata": {},
   "outputs": [],
   "source": [
    "import matplotlib.pyplot as plt\n",
    "from matplotlib.patches import Polygon"
   ]
  },
  {
   "cell_type": "code",
   "execution_count": 8,
   "id": "29fb25f8",
   "metadata": {},
   "outputs": [],
   "source": [
    "points = [ \n",
    "(0,0), (6,0), (6,-5), (4,-5), \n",
    "(4,-7), (6,-7), (6,-9), (1,-9),\n",
    "(1,-7), (0,-7), (0,-5), (2,-5), \n",
    "(2,-2), (0,-2), (0,0),\n",
    "]"
   ]
  },
  {
   "cell_type": "code",
   "execution_count": 34,
   "id": "5250f773",
   "metadata": {},
   "outputs": [
    {
     "data": {
      "image/png": "[encoded data removed]",
      "text/plain": [
       "<Figure size 432x288 with 2 Axes>"
      ]
     },
     "metadata": {
      "needs_background": "light"
     },
     "output_type": "display_data"
    }
   ],
   "source": [
    "x, y = zip(*points)\n",
    "\n",
    "fig,ax = plt.subplots()\n",
    "\n",
    "a = ax.scatter(x, y, c=range(len(x)))\n",
    "fig.colorbar(a)\n",
    "\n",
    "p = Polygon(points, facecolor = 'k', alpha=0.2)\n",
    "ax.add_patch(p)\n",
    "ax.set_aspect('equal')\n",
    "\n",
    "ax.grid(True, alpha=0.5)\n",
    "ax.spines[:].set_visible(False)\n",
    "ax.set_xticks(range(6));\n",
    "ax.set_yticks(range(0,-9,-1));"
   ]
  },
  {
   "cell_type": "code",
   "execution_count": 10,
   "id": "3a46aeb1",
   "metadata": {},
   "outputs": [
    {
     "data": {
      "text/plain": [
       "38"
      ]
     },
     "execution_count": 10,
     "metadata": {},
     "output_type": "execute_result"
    }
   ],
   "source": [
    "sum([6,\n",
    "5,\n",
    "2,\n",
    "2,\n",
    "2,\n",
    "2,\n",
    "5,\n",
    "2,\n",
    "1,\n",
    "2,\n",
    "2,\n",
    "3,\n",
    "2,\n",
    "2])"
   ]
  },
  {
   "cell_type": "code",
   "execution_count": null,
   "id": "7471c4f8",
   "metadata": {},
   "outputs": [],
   "source": []
  }
 ],
 "metadata": {
  "kernelspec": {
   "display_name": "Python 3",
   "language": "python",
   "name": "python3"
  },
  "language_info": {
   "codemirror_mode": {
    "name": "ipython",
    "version": 3
   },
   "file_extension": ".py",
   "mimetype": "text/x-python",
   "name": "python",
   "nbconvert_exporter": "python",
   "pygments_lexer": "ipython3",
   "version": "3.9.18"
  }
 },
 "nbformat": 4,
 "nbformat_minor": 5
}
